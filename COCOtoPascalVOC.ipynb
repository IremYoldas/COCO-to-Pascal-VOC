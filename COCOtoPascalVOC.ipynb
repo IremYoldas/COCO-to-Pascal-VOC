{
  "nbformat": 4,
  "nbformat_minor": 0,
  "metadata": {
    "colab": {
      "name": "Untitled3.ipynb",
      "provenance": []
    },
    "kernelspec": {
      "name": "python3",
      "display_name": "Python 3"
    },
    "language_info": {
      "name": "python"
    }
  },
  "cells": [
    {
      "cell_type": "markdown",
      "source": [
        ""
      ],
      "metadata": {
        "id": "Ape78NPII2Z_"
      }
    },
    {
      "cell_type": "markdown",
      "source": [
        "# **Connect Drive**"
      ],
      "metadata": {
        "id": "EWPj5Jg_I31m"
      }
    },
    {
      "cell_type": "code",
      "execution_count": null,
      "metadata": {
        "id": "l6javB9bIzvP"
      },
      "outputs": [],
      "source": [
        "from google.colab import drive\n",
        "drive.mount('/content/drive')"
      ]
    },
    {
      "cell_type": "code",
      "source": [
        "cd '/path-your-dataset-folder/'"
      ],
      "metadata": {
        "id": "n63SkPFxJB1L"
      },
      "execution_count": null,
      "outputs": []
    },
    {
      "cell_type": "markdown",
      "source": [
        "#**Install Module**"
      ],
      "metadata": {
        "id": "DlTpiX0iJHeY"
      }
    },
    {
      "cell_type": "code",
      "source": [
        "!pip install dicttoxml "
      ],
      "metadata": {
        "id": "Vv7qw76dJHE4"
      },
      "execution_count": null,
      "outputs": []
    },
    {
      "cell_type": "markdown",
      "source": [
        "#**COCO to Pascal VOC**"
      ],
      "metadata": {
        "id": "42lMCKbpJcEb"
      }
    },
    {
      "cell_type": "markdown",
      "source": [
        "**Functions** \n",
        "* I used this code for doing segmentation my own Coco format dataset. It has one object every image. So if you want to use another dataset that has more than one object in one image, you have to add new object label in xml file for every object. Also data load part must change too. \n",
        "* If you don't want to do segmentation, you change \"segmented\" key from 1 to 0."
      ],
      "metadata": {
        "id": "OzwzwFWOKFY_"
      }
    },
    {
      "cell_type": "code",
      "source": [
        "def create_pascal(folder, filename,h,w,cat, x_min,x_max, y_min, y_max):\n",
        "  new_dict = {}\n",
        "  source ={\"database\": \"Unknown\"}\n",
        "  size = {\"width\": w,\n",
        "          \"height\":h,\n",
        "          \"depth\": 3}\n",
        "  box = {\"xmin\": x_min,\n",
        "         \"ymin\": y_min,\n",
        "         \"xmax\": x_max,\n",
        "         \"ymax\": y_max}\n",
        "  obj = {\"name\": cat,\n",
        "         \"pose\": \"Unspecified\",\n",
        "         \"truncated\": 0,\n",
        "         \"difficult\": 0,\n",
        "         \"bndbox\": box}\n",
        "  annotation = {\"folder\": folder,\n",
        "                \"file_name\": filename,\n",
        "                \"path\":folder+\"/\"+filename,\n",
        "                \"source\":source,\n",
        "                \"size\":size,\n",
        "                \"segmented\":1,\n",
        "                \"object\":obj}\n",
        "  return annotation"
      ],
      "metadata": {
        "id": "q2c92-dXJkC1"
      },
      "execution_count": 1,
      "outputs": []
    },
    {
      "cell_type": "code",
      "source": [
        "def get_category(ann, cat):\n",
        "  id_ = ann[\"category_id\"]\n",
        "  for i in cat:\n",
        "    if i[\"id\"] ==id_:\n",
        "      label = i[\"name\"]\n",
        "  return label"
      ],
      "metadata": {
        "id": "iaalkkPkJphF"
      },
      "execution_count": null,
      "outputs": []
    },
    {
      "cell_type": "markdown",
      "source": [
        "Load COCO Format Dataset"
      ],
      "metadata": {
        "id": "ZK5G4SZaKJxM"
      }
    },
    {
      "cell_type": "code",
      "source": [
        "import json \n",
        "\n",
        "path = \"/your-json-file.json\"\n",
        "f = open(path)\n",
        "data = json.load(f)"
      ],
      "metadata": {
        "id": "omg8iuGWJsnR"
      },
      "execution_count": null,
      "outputs": []
    },
    {
      "cell_type": "markdown",
      "source": [
        "If your COCO format dataset has folder name in \"*file_name*\" key, you delete *folder* variable "
      ],
      "metadata": {
        "id": "nmCEVNzhLAw0"
      }
    },
    {
      "cell_type": "code",
      "source": [
        "from dicttoxml import dicttoxml\n",
        "from xml.dom.minidom import parseString\n",
        "\n",
        "for i, ann in enumerate(data[\"annotations\"]):\n",
        "  x1,y1,x_w,y_h = ann[\"bbox\"]\n",
        "  x2 = x1 + x_w\n",
        "  y2 = y1 + y_h\n",
        "  label = get_category(ann,data[\"categories\"])\n",
        "  h = data[\"images\"][i][\"height\"]\n",
        "  w = data[\"images\"][i][\"width\"]\n",
        "  filename = data[\"images\"][i][\"file_name\"]\n",
        "  folder = \"valid\"\n",
        "  last_d = create_pascal(folder,filename,h,w,label,x1,x2,y1,y2)\n",
        "  xml_ = dicttoxml(last_d, custom_root='annotation', attr_type=False)\n",
        "  n,_ = filename.split(\".\")\n",
        "  with open(\"/path-to-save/pascalvoc/valid/\"+n+\".xml\", \"w\") as f:\n",
        "    f.write(parseString(xml_).toprettyxml())\n",
        "  f.close()"
      ],
      "metadata": {
        "id": "cKj9iaXcJ2D-"
      },
      "execution_count": null,
      "outputs": []
    }
  ]
}